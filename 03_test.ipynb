{
  "nbformat": 4,
  "nbformat_minor": 0,
  "metadata": {
    "language_info": {
      "codemirror_mode": {
        "name": "ipython",
        "version": 3
      },
      "file_extension": ".py",
      "mimetype": "text/x-python",
      "name": "python",
      "nbconvert_exporter": "python",
      "pygments_lexer": "ipython3",
      "version": "3.7.3-final"
    },
    "orig_nbformat": 2,
    "kernelspec": {
      "name": "python3",
      "display_name": "Python 3.7.3 64-bit",
      "metadata": {
        "interpreter": {
          "hash": "57baa5815c940fdaff4d14510622de9616cae602444507ba5d0b6727c008cbd6"
        }
      }
    },
    "colab": {
      "name": "Copy of 00-test.ipynb",
      "provenance": [],
      "collapsed_sections": [
        "S80OaGzpOEo4"
      ],
      "toc_visible": true,
      "include_colab_link": true
    }
  },
  "cells": [
    {
      "cell_type": "markdown",
      "metadata": {
        "id": "view-in-github",
        "colab_type": "text"
      },
      "source": [
        "<a href=\"https://colab.research.google.com/github/ertsaz/Taller-Acceso-db/blob/master/03_test.ipynb\" target=\"_parent\"><img src=\"https://colab.research.google.com/assets/colab-badge.svg\" alt=\"Open In Colab\"/></a>"
      ]
    },
    {
      "cell_type": "markdown",
      "metadata": {
        "id": "T-27R8I8lKBf"
      },
      "source": [
        "# Acerca de MySQL\n",
        "MySQL es un manejador de base de datos de código libre que atyda a los usuarios a almacenar, organizar y recolectar datos. Tiene variedad de opciones para otorgar a determinados usuarios permisos entre tablas y bases de datos, éste tutorial te dará una pequeña introducción a algunas de estas opciones."
      ]
    },
    {
      "cell_type": "code",
      "metadata": {
        "id": "lnimiUYilKBg"
      },
      "source": [
        "!sudo apt-get install python3-dev default-libmysqlclient-dev\n",
        "!pip install pymysql"
      ],
      "execution_count": null,
      "outputs": []
    },
    {
      "cell_type": "code",
      "metadata": {
        "id": "2NZCQauilKBh"
      },
      "source": [
        "#@title DATOS DE CONECCIÓN\n",
        "\n",
        "MYSQL_HOSTNAME = 'test-inv.mysql.database.azure.com' # you probably don't need to change this\n",
        "USER_CURRENT = '' #@param {type:\"string\"}\n",
        "MYSQL_USER = USER_CURRENT+'@test-inv'\n",
        "MYSQL_PASSWORD = '' #@param {type: \"string\"}\n",
        "MYSQL_DATABASE = ''\n",
        "MYSQL_PORT = 3306\n",
        "MYSQL_SET = 'mysql+pymysql'"
      ],
      "execution_count": 8,
      "outputs": []
    },
    {
      "cell_type": "code",
      "metadata": {
        "id": "11RzmKnxOxPL",
        "cellView": "form"
      },
      "source": [
        "#@title <- PULSE PARA CONECTAR\n",
        "%%sql {MYSQL_SET}://{MYSQL_USER}:{MYSQL_PASSWORD}@{MYSQL_HOSTNAME}:{MYSQL_PORT}\n",
        "SELECT 'BASE DE DATOS CONECTADA'"
      ],
      "execution_count": null,
      "outputs": []
    },
    {
      "cell_type": "code",
      "metadata": {
        "id": "HcbeWLxBlKBh"
      },
      "source": [
        "%reload_ext sql"
      ],
      "execution_count": 10,
      "outputs": []
    },
    {
      "cell_type": "markdown",
      "metadata": {
        "id": "S80OaGzpOEo4"
      },
      "source": [
        "# 1.Primer Nivel: Mysql\n",
        "---\n",
        "> * El primer nivel lo compone el propio Mysql. Debemos de determinar qué usuarios tienen permiso de conexión al servidor Mysql.\n",
        "\n",
        "> * La información que va a guardar Mysql para determinar si un usuario tiene permiso de conexión es:\n",
        "* Nombre del usuario\n",
        "* Password del usuario\n",
        "* Dirección IP/Nombre del host desde el que el usuario está intentando conectarse al servidor.\n",
        "\n",
        "Toda esa información está guardada en la tabla user de la base de datos mysql **VEAMOS**."
      ]
    },
    {
      "cell_type": "code",
      "metadata": {
        "id": "TO_e0NJzlKBh"
      },
      "source": [
        "%sql SELECT * FROM mysql.user"
      ],
      "execution_count": null,
      "outputs": []
    },
    {
      "cell_type": "markdown",
      "metadata": {
        "id": "6g6JZ149lKBi"
      },
      "source": [
        "## 1.1 Creación de usuarios\n",
        "\n",
        "En las primeras partes del curso de Base de datos, hicimos todas las ediciones como usuario root, con acceso completo a todas las bases de datos. Como sea, en este caso hay mas restricciones que pueden ser requeridas, hay formas de crear usuarios con permisos personalizados.\n",
        "\n",
        "Vamos empezando por crear un usuario nuevo desde la consola de MySQL:\n",
        "\n",
        "`CREATE USER 'nombre_usuario'@'localhost' IDENTIFIED BY 'tu_contrasena';`"
      ]
    },
    {
      "cell_type": "code",
      "metadata": {
        "id": "NgG7lXLMlKBi"
      },
      "source": [
        "%sql CREATE USER 'user'@'%' IDENTIFIED BY '12345678'"
      ],
      "execution_count": null,
      "outputs": []
    },
    {
      "cell_type": "markdown",
      "metadata": {
        "id": "pZNeFt-PlKBi"
      },
      "source": [
        "Lamentablemente, a este punto el nuevo usuario no tiene permisos para hacer algo con las bases de datos. Por consecuencia si el usuario intenta identificarse (con la contraseña establecida), no será capaz de acceder a la consola de MySQL.\n",
        "\n",
        "Esto se puede comprobar con el siguiente codigo:"
      ]
    },
    {
      "cell_type": "code",
      "metadata": {
        "id": "ct6NyTnsPkJz"
      },
      "source": [
        "%sql SHOW CREATE USER 'user'@'%'"
      ],
      "execution_count": null,
      "outputs": []
    },
    {
      "cell_type": "markdown",
      "metadata": {
        "id": "LqlFfZPTJLXZ"
      },
      "source": [
        "### 1.1.1 Opciones para el password\n",
        "![](https://wiki.cifprodolfoucha.es/images/9/9b/Mysql_usuarios_14.jpg)\n",
        "\n",
        "* Podemos 'obligar' a que un usuario cambie su contraseña \n",
        "\n",
        "    > cuando se conecta por primera vez:\n",
        "    > \n",
        "    > `CREATE USER 'angel'@'localhost' IDENTIFIED BY '12345678'  PASSWORD EXPIRE;`\n",
        "    > \n",
        "    > Poniendo la palabra 'PASSWORD EXPIRE'.\n",
        "\n",
        "\n",
        "\n",
        "* También podemos 'obligar' al usuario a que cambie de > password cada cierto número de días:\n",
        "> \n",
        "> `CREATE USER 'angel'@'localhost' IDENTIFIED BY '12345678' PASSWORD EXPIRE INTERVAL 60 DAY;`\n",
        "> \n",
        "> En el ejemplo, deberá cambiar de password cada 60 días.\n"
      ]
    },
    {
      "cell_type": "code",
      "metadata": {
        "id": "QK__t377R4cP"
      },
      "source": [
        "%sql CREATE USER 'user'@'%' IDENTIFIED BY '12345678' PASSWORD EXPIRE"
      ],
      "execution_count": null,
      "outputs": []
    },
    {
      "cell_type": "markdown",
      "metadata": {
        "id": "sRei2k-3WTbQ"
      },
      "source": [
        "### 1.1.2 Bloqueo / Desbloqueo de cuentas\n",
        "\n",
        "![](https://wiki.cifprodolfoucha.es/images/6/6a/Mysql_usuarios_15.jpg)\n",
        "\n",
        "Cuando creamos (o modificamos) una cuenta, podemos indicar si dicha cuenta está bloqueada.\n",
        "En caso de estarlo, no estaría permitida la conexión al servidor Mysql haciendo uso de dicha cuenta.\n",
        "\n",
        "Por ejemplo:"
      ]
    },
    {
      "cell_type": "code",
      "metadata": {
        "id": "VL1YC41lWyBp"
      },
      "source": [
        "%sql CREATE USER 'user'@'%' IDENTIFIED BY '12345678' ACCOUNT LOCK;"
      ],
      "execution_count": null,
      "outputs": []
    },
    {
      "cell_type": "markdown",
      "metadata": {
        "id": "w-VXeVfGXDUH"
      },
      "source": [
        "**Probemos  y conectemonos!!**"
      ]
    },
    {
      "cell_type": "code",
      "metadata": {
        "cellView": "form",
        "id": "ffWKAqW4XALL"
      },
      "source": [
        "#@title DATOS DE CONECCIÓN\n",
        "\n",
        "MYSQL_HOSTNAME = 'test-inv.mysql.database.azure.com' # you probably don't need to change this\n",
        "USER_CURRENT = '' #@param {type:\"string\"}\n",
        "MYSQL_USER = USER_CURRENT+'@test-inv'\n",
        "MYSQL_PASSWORD = '' #@param {type: \"string\"}\n",
        "MYSQL_DATABASE = ''\n",
        "MYSQL_PORT = 3306\n",
        "MYSQL_SET = 'mysql+pymysql'"
      ],
      "execution_count": null,
      "outputs": []
    },
    {
      "cell_type": "code",
      "metadata": {
        "cellView": "form",
        "id": "mquj7DMWXpoQ"
      },
      "source": [
        "#@title <- PULSE PARA CONECTAR\n",
        "%%sql {MYSQL_SET}://{MYSQL_USER}:{MYSQL_PASSWORD}@{MYSQL_HOSTNAME}:{MYSQL_PORT}\n",
        "SELECT 'BASE DE DATOS CONECTADA'"
      ],
      "execution_count": null,
      "outputs": []
    },
    {
      "cell_type": "markdown",
      "metadata": {
        "id": "5by-oGDbafXG"
      },
      "source": [
        "### 1.1.3 Opciones de limitación de recursos\n",
        "\n",
        "Cuando creamos una cuenta podemos establecer ciertos límites al uso que un usuario pueda hacer de los recursos del servidor Mysql.\n",
        "Un ejemplo:"
      ]
    },
    {
      "cell_type": "code",
      "metadata": {
        "id": "RxMCxl79ap00"
      },
      "source": [
        "%sql DROP USER 'user'@'%' -- reseteando el usuario\n",
        "%sql CREATE USER 'user'@'%' IDENTIFIED BY '12345678' WITH MAX_QUERIES_PER_HOUR 2 MAX_USER_CONNECTIONS 2;"
      ],
      "execution_count": null,
      "outputs": []
    },
    {
      "cell_type": "code",
      "metadata": {
        "id": "o0P5XUp-bEO5",
        "cellView": "form"
      },
      "source": [
        "#@title DATOS DE CONECCIÓN\n",
        "\n",
        "MYSQL_HOSTNAME = 'test-inv.mysql.database.azure.com' # you probably don't need to change this\n",
        "USER_CURRENT = '' #@param {type:\"string\"}\n",
        "MYSQL_USER = USER_CURRENT+'@test-inv'\n",
        "MYSQL_PASSWORD = '' #@param {type: \"string\"}\n",
        "MYSQL_DATABASE = ''\n",
        "MYSQL_PORT = 3306\n",
        "MYSQL_SET = 'mysql+pymysql'"
      ],
      "execution_count": null,
      "outputs": []
    },
    {
      "cell_type": "code",
      "metadata": {
        "cellView": "form",
        "id": "QU0V7g2ybCIC"
      },
      "source": [
        "#@title <- PULSE PARA CONECTAR\n",
        "%%sql {MYSQL_SET}://{MYSQL_USER}:{MYSQL_PASSWORD}@{MYSQL_HOSTNAME}:{MYSQL_PORT}\n",
        "SELECT 'BASE DE DATOS CONECTADA'"
      ],
      "execution_count": null,
      "outputs": []
    },
    {
      "cell_type": "markdown",
      "metadata": {
        "id": "Ha76R2BiYtfu"
      },
      "source": [
        "## 1.2 Modificando usuarios\n",
        "\n",
        "* Como vemos la sintaxis es casi idéntica a la del CREATE \n",
        "USER, con las mismas opciones, lo que pasa es que estaríamos modificando los valores de dichas opciones para un usuario existente.\n",
        "\n",
        "* Lo único diferente es la opción IF EXISTS. Dicha opción sirve para que el gestor Mysql realice la orden SQL 'ALTER USER' sólo en el caso de que el usuario exista. Si no existe no hace nada.\n",
        "\n",
        "  > Si no ponemos esta opción a la hora de modificar un   usuario, tendríamos un mensaje de error.\n",
        "  Si estamos ejecutando un conjunto de instrucciones Mysql,   pararía al llegar a esta instrucción.\n",
        "\n",
        "Un ejemplo: Para modificar el nombre del usuario debemos hacer uso de la orden SQL: RENAME USER"
      ]
    },
    {
      "cell_type": "code",
      "metadata": {
        "id": "vnTsCjoDcyMA"
      },
      "source": [
        "%sql RENAME USER 'user'@'%' to 'user_act'@'%'"
      ],
      "execution_count": null,
      "outputs": []
    },
    {
      "cell_type": "markdown",
      "metadata": {
        "id": "_vGo9vH-dSNv"
      },
      "source": [
        "## 1.3 Borrando usuarios\n",
        "\n",
        "![](https://wiki.cifprodolfoucha.es/images/4/42/Mysql_usuarios_23.jpg)\n",
        "\n",
        "La orden SQL que permite dar de baja a usuarios es: DROP USER\n",
        "\n",
        "Un ejemplo:"
      ]
    },
    {
      "cell_type": "code",
      "metadata": {
        "id": "_VzYE1xBlKBi"
      },
      "source": [
        "%sql DROP USER IF EXISTS'user'@'%' "
      ],
      "execution_count": null,
      "outputs": []
    },
    {
      "cell_type": "code",
      "metadata": {
        "id": "cM6L4_HCJZk7"
      },
      "source": [
        ""
      ],
      "execution_count": null,
      "outputs": []
    },
    {
      "cell_type": "markdown",
      "metadata": {
        "id": "1yVl6RqKORfN"
      },
      "source": [
        "# 2.Segundo Nivel: Bases de datos\n",
        "---\n",
        "> * Una vez creado el usuario debemos otorgarle permisos.\n",
        "Los más comunes son los que le van a permitir realizar operaciones sobre una base de datos.\n",
        "\n",
        "> * Cuando creamos un usuario podemos otorgarle permisos a nivel de 'todas las bases de datos' o a nivel de 'una base de datos en particular'.\n",
        "\n",
        "***Los permisos globales*** (los que se aplican a todas las bases de datos) están definidos en la propia tabla 'user' de la base de datos 'mysql'"
      ]
    },
    {
      "cell_type": "code",
      "metadata": {
        "id": "RwGiDRd7Cl8P"
      },
      "source": [
        "%sql DESC mysql.user"
      ],
      "execution_count": null,
      "outputs": []
    },
    {
      "cell_type": "markdown",
      "metadata": {
        "id": "Ev1wbDwHDGYO"
      },
      "source": [
        "***Los permisos locales*** a nivel de una base de datos en particular se encuentran guardados en la tabla db de la base de datos mysql."
      ]
    },
    {
      "cell_type": "code",
      "metadata": {
        "id": "1ect4TvNDTn8"
      },
      "source": [
        "%sql DESC mysql.db"
      ],
      "execution_count": null,
      "outputs": []
    },
    {
      "cell_type": "markdown",
      "metadata": {
        "id": "qVVm0CjbDlGk"
      },
      "source": [
        "Las columnas Host,Db, User conforman la clave primaria de la tabla y por tanto no puede haber dos filas con los mismos valores.\n",
        "* Host: nombre del host desde está permitido acceder a la base de datos.\n",
        "* Db: nombre de la base de datos.\n",
        "* User: nombre del usuario que tiene permiso de acceso a la base de datos.\n",
        "\n"
      ]
    },
    {
      "cell_type": "code",
      "metadata": {
        "id": "xohZdZo8D9yH"
      },
      "source": [
        "%sql SELECT Host, User, Db, Select_priv FROM mysql.db"
      ],
      "execution_count": null,
      "outputs": []
    },
    {
      "cell_type": "markdown",
      "metadata": {
        "id": "xZjpDPQ4FbJW"
      },
      "source": [
        "## 2.1 GRANT Permisos a nivel global\n",
        "\n",
        "> Para que otorgar un permiso a este nivel, hay que indicar: ON `*.*` en la cláusula grant.\n",
        "\n",
        "La sintaxis básica para dar permisos a nivel del gestor Mysql, incluyendo los permisos administrativos sería:"
      ]
    },
    {
      "cell_type": "code",
      "metadata": {
        "id": "eWo1urpfGGbR"
      },
      "source": [
        "%sql GRANT SELECT ON *.* TO '___'@'___'"
      ],
      "execution_count": null,
      "outputs": []
    },
    {
      "cell_type": "code",
      "metadata": {
        "id": "-POih9y4GtZQ"
      },
      "source": [
        "%sql SELECT * FROM mysql.user -- ejecutamos para ver los cambios"
      ],
      "execution_count": null,
      "outputs": []
    },
    {
      "cell_type": "markdown",
      "metadata": {
        "id": "KcApnetMGc4r"
      },
      "source": [
        "Podemos otorgar varios permisos en una única operación, separándolos con comas:"
      ]
    },
    {
      "cell_type": "code",
      "metadata": {
        "id": "phWpLrFPGeWa"
      },
      "source": [
        "%sql GRANT SELECT,UPDATE ON *.* TO '___'@'___'"
      ],
      "execution_count": null,
      "outputs": []
    },
    {
      "cell_type": "code",
      "metadata": {
        "id": "yQ10Y1MpG3mt"
      },
      "source": [
        "%sql SELECT * FROM mysql.user -- ejecutamos para ver los cambios"
      ],
      "execution_count": null,
      "outputs": []
    },
    {
      "cell_type": "markdown",
      "metadata": {
        "id": "IDXRtrPaHMv0"
      },
      "source": [
        "## 2.2 Permisos a nivel de bases de datos\n",
        "\n",
        "> Recordar que a este nivel, los permisos son filas que se añaden, borran o se modifcan en la tabla mysql.db, y se aplican en una base de datos concreta."
      ]
    },
    {
      "cell_type": "code",
      "metadata": {
        "id": "yCttV95lKSGi"
      },
      "source": [
        "GRANT ALL ON mydb.mytbl TO '___'@'___'"
      ],
      "execution_count": null,
      "outputs": []
    },
    {
      "cell_type": "markdown",
      "metadata": {
        "id": "TX3lcQFUVCyn"
      },
      "source": [
        "# 3.Tercer Nivel: Tablas y columnas\n",
        "---"
      ]
    },
    {
      "cell_type": "markdown",
      "metadata": {
        "id": "9iiNBkSOHsoX"
      },
      "source": [
        "## 3.1 Permisos a nivel de tabla\n",
        "> Recordar que a este nivel, los permisos son filas que se añaden, borran o se modifican en la tabla mysql.tables_priv, y se aplican en una base de datos concreta y en una tabla concreta."
      ]
    },
    {
      "cell_type": "code",
      "metadata": {
        "id": "MdANTP4iXorv"
      },
      "source": [
        "GRANT ALL ON mydb.mytbl TO 'someuser'@'somehost';"
      ],
      "execution_count": null,
      "outputs": []
    },
    {
      "cell_type": "markdown",
      "metadata": {
        "id": "SMM_zjHYWw24"
      },
      "source": [
        "## 3.2 Permisos a nivel de columnas\n",
        "> Recordar que a este nivel, los permisos son filas que se añaden, borran o se modifican en la tabla mysql.tables_priv, y se aplican en una base de datos concreta y en una tabla concreta.\n",
        "\n",
        "`GRANT SELECT (col1), INSERT (col1,col2) ON mydb.mytbl TO 'someuser'@'somehost';`"
      ]
    }
  ]
}